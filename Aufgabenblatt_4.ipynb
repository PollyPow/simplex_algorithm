{
 "cells": [
  {
   "cell_type": "markdown",
   "metadata": {},
   "source": [
    "# Aufgabenblatt 4"
   ]
  },
  {
   "cell_type": "markdown",
   "metadata": {},
   "source": [
    "## Lineare Optimierung - 4\n"
   ]
  },
  {
   "cell_type": "code",
   "execution_count": 2,
   "metadata": {},
   "outputs": [],
   "source": [
    "import numpy as np\n",
    "import math\n",
    "import copy"
   ]
  },
  {
   "cell_type": "code",
   "execution_count": 135,
   "metadata": {},
   "outputs": [],
   "source": [
    "def simplex(a,b,c,zf_wert):\n",
    "    first=True\n",
    "    arr_pivot_spalte=[]\n",
    "    arr_choose_pivot=[]\n",
    "    arr_division=[]\n",
    "    arr_pivot_zeile=[]\n",
    "    \n",
    "    pivot_help=np.min(c)\n",
    "    if(pivot_help>=0):\n",
    "        print('zielfunktion fertig')\n",
    "        print('Zielfunktionswert: ', round(zf_wert,2))\n",
    "        print('c: ')\n",
    "        for i in range(0, c.size):\n",
    "            print(round(c[i],2))\n",
    "        print('A: ', a)\n",
    "        print('b: ')\n",
    "        for i in range(0, b.size):\n",
    "            print(round(b[i],2))\n",
    "        return\n",
    "        \n",
    "        \n",
    "    else:\n",
    "        for j in range(0, c.size):\n",
    "            if(c[j]==pivot_help):\n",
    "                pivot_spalte=j\n",
    "                for i in range(0, b.size):\n",
    "                    arr_pivot_spalte.append(a[i,j])\n",
    "        \n",
    "        for i in range(0, b.size):\n",
    "            if(arr_pivot_spalte[i] > 0):\n",
    "                arr_division.append(b[i]/arr_pivot_spalte[i])\n",
    "                \n",
    "            arr_choose_pivot.append(arr_pivot_spalte[i])\n",
    "                \n",
    "        if(len(arr_division)==0):\n",
    "            print('no positive values in column: ', pivot_spalte)\n",
    "            print('Zielfunktionswert: ', round(zf_wert,2))\n",
    "            print('c: ')\n",
    "            for i in range(0, c.size):\n",
    "                print(round(c[i],2))\n",
    "            print('A: ', a)\n",
    "            print('b: ')\n",
    "            for i in range(0, b.size):\n",
    "                print(round(b[i],2))\n",
    "            return\n",
    "        \n",
    "        #print('pivot spalte elems: ', arr_choose_pivot)\n",
    "        #choosing pivot elem\n",
    "        #choosing pivot line\n",
    "        pivot_zeile=np.min(arr_division)\n",
    "        for i in range(0, b.size):\n",
    "            if(arr_pivot_spalte[i]>0):\n",
    "                if(b[i]/arr_pivot_spalte[i]==pivot_zeile):\n",
    "                    pivot=arr_choose_pivot[i]\n",
    "                    pivot_zeile=i\n",
    "                    break\n",
    "                \n",
    "        #adding values to pivot line array\n",
    "        for i in range(0, b.size):\n",
    "            if(i==pivot_zeile):\n",
    "                for j in range(0, c.size):\n",
    "                    arr_pivot_zeile.append(a[i,j])\n",
    "                \n",
    "        #changing b in not pivot lines\n",
    "        c_pivot_spalte_help=copy.copy(c[pivot_spalte])\n",
    "        for i in range(0, b.size):\n",
    "            if(i!=pivot_zeile):\n",
    "                b[i]=b[i]-arr_pivot_spalte[i]/pivot*b[pivot_zeile]\n",
    "                #print(b[i], i)\n",
    "                \n",
    "                if(first==True):\n",
    "                    #print('c values: ')\n",
    "                    for j in range(0, c.size):\n",
    "                        help=arr_pivot_zeile[j]/pivot*c_pivot_spalte_help\n",
    "                        #print('help: ', help, 'c: ', c[j])\n",
    "                        c[j]=c[j]-help\n",
    "                        #print(c[j], arr_pivot_zeile[j], pivot, c_pivot_spalte_help)\n",
    "                    first=False\n",
    "                \n",
    "        #print('pivot spalte nr: ', pivot_spalte)\n",
    "        #print('pivot zeile nr: ', pivot_zeile)\n",
    "        #changing A values in pivot line and zf_wert + b value in line of pivot\n",
    "        for i in range(0, b.size):\n",
    "            if(i==pivot_zeile):\n",
    "                for j in range(0, c.size):\n",
    "                    a[i,j]=a[i,j]/pivot\n",
    "                    \n",
    "                    if(j==pivot_spalte):\n",
    "                        zf_wert=zf_wert-b[i]/pivot*c_pivot_spalte_help\n",
    "                    \n",
    "                b[i]=b[i]/pivot\n",
    "        \n",
    "        #print('pivot spalte: ', arr_pivot_spalte)\n",
    "        #print('pivot zeile: ', arr_pivot_zeile)\n",
    "        #print('pivot element: ', pivot)\n",
    "        \n",
    "        #updating A matrix\n",
    "        for i in range(0, b.size):\n",
    "            if(i!=pivot_zeile):\n",
    "                for j in range(0, c.size):\n",
    "                    a[i,j]=a[i,j]-arr_pivot_spalte[i]/pivot*arr_pivot_zeile[j]\n",
    "                        \n",
    "        #print('check')\n",
    "        #print('Zielfunktionswert: ', round(zf_wert,2))\n",
    "        #print('c: ')\n",
    "        #for i in range(0, c.size):\n",
    "        #    print(round(c[i],2))\n",
    "        #print('A: ', a)\n",
    "        #print('b: ')\n",
    "        #for i in range(0, b.size):\n",
    "        #    print(round(b[i],2))\n",
    "        simplex(a,b,c,zf_wert)\n",
    "    "
   ]
  },
  {
   "cell_type": "markdown",
   "metadata": {},
   "source": [
    "### Aufgabe 1\n",
    "\n",
    "Schreiben Sie für die Aufgaben  a) und b) die Dualprobleme auf und lösen Sie diese mit dem Simplex-Algorithmus.\n",
    "\n",
    "a) $ x_1 + 2x_2 + x_4 + x_6 \\rightarrow \\text{max(min) }$\n",
    "\n",
    "unter den Nebenbedingungen:\n",
    "\n",
    "$ x_1 + 2x_2 - x_3 + 2x_4 -x_5 + 2x_6 =0,$\n",
    "\n",
    "$x_1 - 4x_2 + 2 x_3 + 2x_4 - 4 x_6 = 1,$\n",
    "\n",
    "$ 2x_1 - 2x_2 + x_3 + 4x_4 + x_5 - 2x_6 = 3, $\n",
    "\n",
    "$ x_i  \\geq 0,\\,i = 1, \\dots, 6 $\n",
    "\n",
    "\n"
   ]
  },
  {
   "cell_type": "markdown",
   "metadata": {},
   "source": [
    "Lösung:\n",
    "\n",
    "Maximierung:\n",
    "$$\n",
    "    y_3-y_4+3y_5-3y_6 \\rightarrow \\text{max} \\\\\n",
    "    -y_1+y_2-y_3+y_4-2y_5+2y_6 \\leq 1 \\\\\n",
    "    -2y_1+2y_2+4y_3-4y_4+2y_5-2y_6 \\leq 2 \\\\\n",
    "    y_1-y_2-2y_3+3y_4-y_5+y_6 \\leq 0 \\\\\n",
    "    -2y_1+2y_2-2y_3+2y_4-4y_5+4y_6 \\leq 1 \\\\\n",
    "    y_1-y_2-y_5+y_6 \\leq 0 \\\\\n",
    "    -2y_1+2y_2+4y_3-4y_4+2y_5-2y_6 \\leq 1\n",
    "$$"
   ]
  },
  {
   "cell_type": "code",
   "execution_count": 136,
   "metadata": {},
   "outputs": [
    {
     "name": "stdout",
     "output_type": "stream",
     "text": [
      "no positive values in column:  3\n",
      "Zielfunktionswert:  1.5\n",
      "c: \n",
      "-3.0\n",
      "3.0\n",
      "5.0\n",
      "-5.0\n",
      "0.0\n",
      "0.0\n",
      "0.0\n",
      "0.0\n",
      "0.0\n",
      "0.0\n",
      "0.0\n",
      "1.5\n",
      "A:  [[-3.   3.   3.  -3.   0.   0.   1.   0.   0.   0.   0.   1. ]\n",
      " [ 0.   0.   0.   0.   0.   0.   0.   1.   0.   0.   0.  -1. ]\n",
      " [ 0.   0.   0.   0.   0.   0.   0.   0.   1.   0.   0.   0.5]\n",
      " [-6.   6.   6.  -6.   0.   0.   0.   0.   0.   1.   0.   2. ]\n",
      " [ 0.   0.   2.  -2.   0.   0.   0.   0.   0.   0.   1.   0.5]\n",
      " [-1.   1.   2.  -2.   1.  -1.   0.   0.   0.   0.   0.   0.5]]\n",
      "b: \n",
      "2.0\n",
      "1.0\n",
      "0.5\n",
      "3.0\n",
      "0.5\n",
      "0.5\n"
     ]
    }
   ],
   "source": [
    "a=np.array([[-1., 1., -1., 1., -2., 2., 1., 0., 0., 0., 0., 0.],\n",
    "            [-2., 2., 4., -4., 2., -2., 0., 1., 0., 0., 0., 0.],\n",
    "            [1., -1., -2., 2., -1., 1., 0., 0., 1., 0., 0., 0.],\n",
    "            [-2., 2., -2., 2., -4., 4., 0., 0., 0., 1., 0., 0.],\n",
    "            [1., -1., 0., 0., -1., 1., 0., 0., 0., 0., 1., 0.],\n",
    "            [-2., 2., 4., -4., 2., -2., 0., 0., 0., 0., 0., 1.]])\n",
    "b=np.array([1., 2., 0., 1., 0., 1.])\n",
    "c=np.array([0., 0., -1., 1., -3., 3., 0., 0., 0., 0., 0., 0.])\n",
    "zf_wert=0.\n",
    "simplex(a,b,c,zf_wert)"
   ]
  },
  {
   "cell_type": "markdown",
   "metadata": {},
   "source": [
    "Antwort: das Problem ist unbeschränkt."
   ]
  },
  {
   "cell_type": "markdown",
   "metadata": {},
   "source": [
    "Minimierung:\n",
    "\n",
    "$$\n",
    "    -y_3+y_4-3y_5+3y_6 \\rightarrow \\text{max} \\\\\n",
    "    -y_1+y_2-y_3+y_4-2y_5+2y_6 \\leq 1 \\\\\n",
    "    -2y_1+2y_2+4y_3-4y_4+2y_5-2y_6 \\leq 2 \\\\\n",
    "    y_1-y_2-2y_3+3y_4-y_5+y_6 \\leq 0 \\\\\n",
    "    -2y_1+2y_2-2y_3+2y_4-4y_5+4y_6 \\leq 1 \\\\\n",
    "    y_1-y_2-y_5+y_6 \\leq 0 \\\\\n",
    "    -2y_1+2y_2+4y_3-4y_4+2y_5-2y_6 \\leq 1\n",
    "$$"
   ]
  },
  {
   "cell_type": "code",
   "execution_count": 137,
   "metadata": {},
   "outputs": [
    {
     "name": "stdout",
     "output_type": "stream",
     "text": [
      "zielfunktion fertig\n",
      "Zielfunktionswert:  0.5\n",
      "c: \n",
      "0.0\n",
      "0.0\n",
      "0.0\n",
      "0.0\n",
      "0.0\n",
      "0.0\n",
      "0.0\n",
      "0.0\n",
      "0.0\n",
      "0.5\n",
      "1.0\n",
      "0.0\n",
      "A:  [[ 0.          0.          0.          0.          0.          0.\n",
      "   1.          0.          0.         -0.5         0.          0.        ]\n",
      " [ 0.          0.          0.          0.          0.          0.\n",
      "   0.          1.          2.          0.          0.          0.        ]\n",
      " [ 0.          0.          0.          0.         -1.          1.\n",
      "   0.          0.         -0.16666667  0.16666667  0.5         0.        ]\n",
      " [-1.          1.          0.          0.          0.          0.\n",
      "   0.          0.         -0.16666667  0.16666667 -0.5         0.        ]\n",
      " [ 0.          0.          1.         -1.          0.          0.\n",
      "   0.          0.         -0.5         0.          0.5         0.        ]\n",
      " [ 0.          0.          0.          0.          0.          0.\n",
      "   0.          0.          2.          0.          0.          1.        ]]\n",
      "b: \n",
      "0.5\n",
      "2.0\n",
      "0.17\n",
      "0.17\n",
      "0.0\n",
      "1.0\n"
     ]
    }
   ],
   "source": [
    "a=np.array([[-1., 1., -1., 1., -2., 2., 1., 0., 0., 0., 0., 0.],\n",
    "            [-2., 2., 4., -4., 2., -2., 0., 1., 0., 0., 0., 0.],\n",
    "            [1., -1., -2., 2., -1., 1., 0., 0., 1., 0., 0., 0.],\n",
    "            [-2., 2., -2., 2., -4., 4., 0., 0., 0., 1., 0., 0.],\n",
    "            [1., -1., 0., 0., -1., 1., 0., 0., 0., 0., 1., 0.],\n",
    "            [-2., 2., 4., -4., 2., -2., 0., 0., 0., 0., 0., 1.]])\n",
    "b=np.array([1., 2., 0., 1., 0., 1.])\n",
    "c=np.array([0., 0., 1., -1., 3., -3., 0., 0., 0., 0., 0., 0.])\n",
    "zf_wert=0.\n",
    "simplex(a,b,c,zf_wert)"
   ]
  },
  {
   "cell_type": "markdown",
   "metadata": {},
   "source": [
    "Antwort: der minimale Zielfunktionswert ist 0.5."
   ]
  },
  {
   "cell_type": "markdown",
   "metadata": {},
   "source": [
    "\n",
    "b) $ 3x_1 + 10x_2 + 8x_3 -6 x_4 \\rightarrow \\text{min(max) }$\n",
    "\n",
    "unter den Nebenbedingungen:\n",
    "\n",
    "$ x_1 + 3x_2 + 3 x_3 -  2x_4 = -1,$\n",
    "\n",
    "$3x_1+ 2x_2 + x_3 - x_4  \\geq -1,$\n",
    "\n",
    "$ x_1 \\leq 4,$\n",
    "\n",
    "$ x_i  \\geq 0, \\, i = 1, \\dots, 4 $"
   ]
  },
  {
   "cell_type": "markdown",
   "metadata": {},
   "source": [
    "Lösung:\n",
    "\n",
    "Maximierung:\n",
    "\n",
    "$$\n",
    "    -y_1+y_2+y_3+4y_4-Ms_1 \\rightarrow \\text{max} \\\\\n",
    "    -y_1+y_2+3y_3-y_4+y_5 = 3 \\\\\n",
    "    -3y_1+3y_2+2y_3+y_6 = 10 \\\\\n",
    "    -3y_1+3y_2+3y_3+y_7 = 8 \\\\\n",
    "    -2y_1+2y_2+y_3-y_8+s_1 = 6\n",
    "$$"
   ]
  },
  {
   "cell_type": "code",
   "execution_count": 138,
   "metadata": {},
   "outputs": [
    {
     "name": "stdout",
     "output_type": "stream",
     "text": [
      "no positive values in column:  3\n",
      "Zielfunktionswert:  -6664.0\n",
      "c: \n",
      "0.0\n",
      "0.0\n",
      "10000.0\n",
      "-4.0\n",
      "0.0\n",
      "0.0\n",
      "6667.0\n",
      "10000.0\n",
      "0.0\n",
      "A:  [[ 0.          0.          2.         -1.          1.          0.\n",
      "  -0.33333333  0.          0.        ]\n",
      " [ 0.          0.         -1.          0.          0.          1.\n",
      "  -1.          0.          0.        ]\n",
      " [-1.          1.          1.          0.          0.          0.\n",
      "   0.33333333  0.          0.        ]\n",
      " [ 0.          0.         -1.          0.          0.          0.\n",
      "  -0.66666667 -1.          1.        ]]\n",
      "b: \n",
      "0.33\n",
      "2.0\n",
      "2.67\n",
      "0.67\n"
     ]
    }
   ],
   "source": [
    "#M = 10000\n",
    "a=np.array([[-1., 1., 3., -1., 1., 0., 0., 0., 0.],\n",
    "            [-3., 3., 2., 0., 0., 1., 0., 0., 0.],\n",
    "            [-3., 3., 3., 0., 0., 0., 1., 0., 0.],\n",
    "            [-2., 2., 1., 0., 0., 0., 0., -1., 1.]])\n",
    "b=np.array([3., 10., 8., 6.])\n",
    "c=np.array([20001., -20001., -10001., -4., 0., 0., 0., 10000., 0.])\n",
    "zf_wert=-60000.\n",
    "simplex(a,b,c,zf_wert)"
   ]
  },
  {
   "cell_type": "markdown",
   "metadata": {},
   "source": [
    "Antwort: das Problem ist unbeschränkt."
   ]
  },
  {
   "cell_type": "markdown",
   "metadata": {},
   "source": [
    "Minimierung:\n",
    "\n",
    "$$\n",
    "    y_1-y_2-y_3-4y_4-Ms_1 \\rightarrow \\text{max} \\\\\n",
    "    -y_1+y_2+3y_3-y_4+y_5 = 3 \\\\\n",
    "    -3y_1+3y_2+2y_3+y_6 = 10 \\\\\n",
    "    -3y_1+3y_2+3y_3+y_7 = 8 \\\\\n",
    "    -2y_1+2y_2+y_3-y_8+s_1 = 6\n",
    "$$"
   ]
  },
  {
   "cell_type": "code",
   "execution_count": 139,
   "metadata": {},
   "outputs": [
    {
     "name": "stdout",
     "output_type": "stream",
     "text": [
      "zielfunktion fertig\n",
      "Zielfunktionswert:  -24.0\n",
      "c: \n",
      "0.0\n",
      "0.0\n",
      "0.0\n",
      "0.0\n",
      "4.0\n",
      "3322.0\n",
      "3343.0\n",
      "10000.0\n",
      "0.0\n",
      "A:  [[ 0.          0.          1.          0.          0.          1.\n",
      "  -1.          0.          0.        ]\n",
      " [ 0.          0.          0.          1.         -1.          2.66666667\n",
      "  -2.33333333  0.          0.        ]\n",
      " [-1.          1.          0.          0.          0.         -0.33333333\n",
      "   0.66666667  0.          0.        ]\n",
      " [ 0.          0.          0.          0.          0.         -0.33333333\n",
      "  -0.33333333 -1.          1.        ]]\n",
      "b: \n",
      "2.0\n",
      "5.0\n",
      "2.0\n",
      "0.0\n"
     ]
    }
   ],
   "source": [
    "#M = 10000\n",
    "a=np.array([[-1., 1., 3., -1., 1., 0., 0., 0., 0.],\n",
    "            [-3., 3., 2., 0., 0., 1., 0., 0., 0.],\n",
    "            [-3., 3., 1., 0., 0., 0., 1., 0., 0.],\n",
    "            [-2., 2., 1., 0., 0., 0., 0., -1., 1.]])\n",
    "b=np.array([3., 10., 8., 6.])\n",
    "c=np.array([19999., -19999., -9999., 4., 0., 0., 0., 10000., 0.])\n",
    "zf_wert=-60000.\n",
    "simplex(a,b,c,zf_wert)"
   ]
  },
  {
   "cell_type": "markdown",
   "metadata": {},
   "source": [
    "Antwort: der minimale Zielfunktionswert ist -24."
   ]
  },
  {
   "cell_type": "markdown",
   "metadata": {},
   "source": [
    "### Aufgabe 2 \n",
    "\n",
    "Lösen Sie das LP-Problem mit dem Simplex-Algorithmus:\n",
    "\n",
    "\\begin{array}{rcl}\n",
    "1000 x_1 + 200 x_2 + 400 x_3 &\\to& \\max\\\\\n",
    "x_1 + x_2 + 8 x_3 &\\leq& 250\\\\\n",
    "20 x_1  + 2 x_2 + x_3&\\leq& 200\\\\\n",
    "x_1, x_2, x_3 &\\geq& 0\n",
    "\\end{array}\n",
    "\n",
    "a) Um wieviel kann der optimale Zielfunktionswert erhöht werden, wenn man die rechte Seite der ersten Nebenbedingung von 250 auf 251 erhöht?\n",
    "\n",
    "b) Ermitteln Sie die Schattenpreise und interpretieren Sie diese Werte.\n",
    "\n",
    "c) Schreiben Sie das duale System auf.  \n",
    "\n",
    "d) Was ist die Lösung des dualen Systems?\n",
    "\n",
    "e) Ermitteln Sie die Schattenpreise des dualen Systems.\n",
    "\n",
    "f) Vergleichen Sie beide Lösungen. Welche Zusammenhänge in Bezug auf Dualität können Sie feststellen?\n",
    "\n",
    "g) Prüfen Sie Ihre händischen Lösungen von a) - f) mit dem Python-Programm linprog"
   ]
  },
  {
   "cell_type": "code",
   "execution_count": 140,
   "metadata": {},
   "outputs": [
    {
     "name": "stdout",
     "output_type": "stream",
     "text": [
      "zielfunktion fertig\n",
      "Zielfunktionswert:  26000.0\n",
      "c: \n",
      "640.0\n",
      "0.0\n",
      "0.0\n",
      "40.0\n",
      "80.0\n",
      "A:  [[-1.2         0.          1.          0.13333333 -0.06666667]\n",
      " [10.6         1.          0.         -0.06666667  0.53333333]]\n",
      "b: \n",
      "20.0\n",
      "90.0\n"
     ]
    }
   ],
   "source": [
    "a=np.array([[1., 1., 8., 1., 0.],\n",
    "            [20., 2., 1., 0., 1.]])\n",
    "b=np.array([250., 200.])\n",
    "c=np.array([-1000., -200., -400., 0., 0.])\n",
    "zf_wert=0.\n",
    "simplex(a,b,c,zf_wert)"
   ]
  },
  {
   "cell_type": "markdown",
   "metadata": {},
   "source": [
    "Der maximale Zielfunktionswert ist 26000. Der optimale Punkt ist (0,90,20,0,0)."
   ]
  },
  {
   "cell_type": "markdown",
   "metadata": {},
   "source": [
    "a) Der Zielfunktionswert wird um 40 erhöht.\n",
    "\n",
    "b) Schattenpreise: 40, 80. Wenn die erste NB von 250 auf 251 erhöht wird, wird der Zielfunktionswert um 40 größer. Wenn die zweite NB von 200 auf 201 erhöht wird, wird der Zielfunktionswert um 80 größer.\n",
    "\n",
    "c)\n",
    "\n",
    "$$\n",
    "  250y_1+200y_2 \\rightarrow \\text{min} \\\\\n",
    "  y_1+20y_2 \\geq 1000 \\\\\n",
    "  y_1+2y_2 \\geq 200 \\\\\n",
    "  8y_1+y_2 \\geq 400\n",
    "$$\n",
    "\n",
    "$$\n",
    "  -250y_1-200y_2-Ms_1-Ms_2-Ms_3 \\rightarrow \\text{max} \\\\\n",
    "  y_1+20y_2-y_3+s_1 = 1000 \\\\\n",
    "  y_1+2y_2-y_4+s_2 = 200 \\\\\n",
    "  8y_1+y_2-y_5+s_3 = 400\n",
    "$$"
   ]
  },
  {
   "cell_type": "code",
   "execution_count": 141,
   "metadata": {},
   "outputs": [
    {
     "name": "stdout",
     "output_type": "stream",
     "text": [
      "zielfunktion fertig\n",
      "Zielfunktionswert:  -26000.0\n",
      "c: \n",
      "0.0\n",
      "0.0\n",
      "0.0\n",
      "90.0\n",
      "20.0\n",
      "10000.0\n",
      "9910.0\n",
      "9980.0\n",
      "A:  [[  0.           1.           0.          -0.53333333   0.06666667\n",
      "    0.           0.53333333  -0.06666667]\n",
      " [  0.           0.           1.         -10.6          1.2\n",
      "   -1.          10.6         -1.2       ]\n",
      " [  1.           0.           0.           0.06666667  -0.13333333\n",
      "    0.          -0.06666667   0.13333333]]\n",
      "b: \n",
      "80.0\n",
      "640.0\n",
      "40.0\n"
     ]
    }
   ],
   "source": [
    "#M = 10000\n",
    "a=np.array([[1., 20., -1., 0., 0., 1., 0., 0.],\n",
    "            [1., 2., 0., -1., 0., 0., 1., 0.],\n",
    "            [8., 1., 0., 0., -1., 0., 0., 1]])\n",
    "b=np.array([1000., 200., 400])\n",
    "c=np.array([-99750., -229800., 10000., 10000., 10000., 0., 0., 0.])\n",
    "zf_wert=-16000000.\n",
    "simplex(a,b,c,zf_wert)"
   ]
  },
  {
   "cell_type": "markdown",
   "metadata": {},
   "source": [
    "d) Der minimale Wert der Zielfunktion ist 26000. Der optimale Punkt ist (40, 80, 640, 0, 0).\n",
    "\n",
    "e) Schattenpreise: 0, 90, 20. Wenn die erste NB von 1000 auf 1001 erhöht wird, wird der Zielfunktionswert um 0 größer. Wenn die zweite NB von 200 auf 201 erhöht wird, wird der Zielfunktionswert um 90 größer. Wenn die dritte NB von 400 auf 401 erhöht wird, wird der Zielfunktionswert um 20 größer."
   ]
  },
  {
   "cell_type": "markdown",
   "metadata": {},
   "source": [
    "### Aufgabe 3\n",
    "\t\n",
    "Gegeben ist das folgende Transportproblem (Produktionsstätten $Q_1$, $Q_2$; Verbraucherstätten $S_1$,  $S_2$; [ 2 x 2 ]- Kostenmatrix):"
   ]
  },
  {
   "cell_type": "code",
   "execution_count": 2,
   "metadata": {},
   "outputs": [
    {
     "data": {
      "text/html": [
       "<div>\n",
       "<style scoped>\n",
       "    .dataframe tbody tr th:only-of-type {\n",
       "        vertical-align: middle;\n",
       "    }\n",
       "\n",
       "    .dataframe tbody tr th {\n",
       "        vertical-align: top;\n",
       "    }\n",
       "\n",
       "    .dataframe thead th {\n",
       "        text-align: right;\n",
       "    }\n",
       "</style>\n",
       "<table border=\"1\" class=\"dataframe\">\n",
       "  <thead>\n",
       "    <tr style=\"text-align: right;\">\n",
       "      <th></th>\n",
       "      <th>S1</th>\n",
       "      <th>S2</th>\n",
       "      <th>Angebot</th>\n",
       "    </tr>\n",
       "  </thead>\n",
       "  <tbody>\n",
       "    <tr>\n",
       "      <th>Q1</th>\n",
       "      <td>30</td>\n",
       "      <td>20</td>\n",
       "      <td>10</td>\n",
       "    </tr>\n",
       "    <tr>\n",
       "      <th>Q2</th>\n",
       "      <td>40</td>\n",
       "      <td>25</td>\n",
       "      <td>20</td>\n",
       "    </tr>\n",
       "    <tr>\n",
       "      <th>Nachfrage</th>\n",
       "      <td>15</td>\n",
       "      <td>15</td>\n",
       "      <td>0</td>\n",
       "    </tr>\n",
       "  </tbody>\n",
       "</table>\n",
       "</div>"
      ],
      "text/plain": [
       "           S1  S2  Angebot\n",
       "Q1         30  20       10\n",
       "Q2         40  25       20\n",
       "Nachfrage  15  15        0"
      ]
     },
     "execution_count": 2,
     "metadata": {},
     "output_type": "execute_result"
    }
   ],
   "source": [
    "import pandas as pd\n",
    "import numpy as np\n",
    "row_labels=['Q1','Q2', 'Nachfrage']\n",
    "df = pd.DataFrame(data = np.array([[30,20,10],[40,25,20],[15,15,0]]), columns = ['S1','S2','Angebot'], index=row_labels)\n",
    "df"
   ]
  },
  {
   "cell_type": "markdown",
   "metadata": {},
   "source": [
    "Formulieren Sie das Problem als LP und lösen Sie es durch Dualisierung."
   ]
  },
  {
   "cell_type": "markdown",
   "metadata": {},
   "source": [
    "Lösung:\n",
    "\n",
    "$$\n",
    "    30x_1+20x_2+40x_3+25x_4 \\rightarrow \\text{min} \\\\\n",
    "    x_1+x_2 = 10 \\\\\n",
    "    x_3+x_4 = 20 \\\\\n",
    "    x_1+x_3 = 15 \\\\\n",
    "    x_2+x_4 = 15\n",
    "$$\n",
    "\n",
    "$$\n",
    "    10y_1-10y_2+20y_3-20y_4+15y_5-15y_6+15y_7-15y_8 \\rightarrow \\text{max} \\\\\n",
    "    y_1-y_2+y_5-y_6 \\leq 30 \\\\\n",
    "    y_1-y_2+y_7-y_8 \\leq 20 \\\\\n",
    "    y_3-y_4+y_5-y_6 \\leq 40 \\\\\n",
    "    y_3-y_4+y_7-y_8 \\leq 25\n",
    "$$"
   ]
  },
  {
   "cell_type": "code",
   "execution_count": 142,
   "metadata": {},
   "outputs": [
    {
     "name": "stdout",
     "output_type": "stream",
     "text": [
      "zielfunktion fertig\n",
      "Zielfunktionswert:  875.0\n",
      "c: \n",
      "0.0\n",
      "0.0\n",
      "0.0\n",
      "0.0\n",
      "0.0\n",
      "0.0\n",
      "0.0\n",
      "0.0\n",
      "10.0\n",
      "0.0\n",
      "5.0\n",
      "15.0\n",
      "A:  [[ 1. -1.  0.  0.  0.  0.  1. -1.  1.  0. -1.  1.]\n",
      " [ 0.  0.  0.  0.  0.  0.  0.  0. -1.  1.  1. -1.]\n",
      " [ 0.  0.  0.  0.  1. -1. -1.  1.  0.  0.  1. -1.]\n",
      " [ 0.  0.  1. -1.  0.  0.  1. -1.  0.  0.  0.  1.]]\n",
      "b: \n",
      "15.0\n",
      "5.0\n",
      "15.0\n",
      "25.0\n"
     ]
    }
   ],
   "source": [
    "a=np.array([[1., -1., 0., 0., 1., -1., 0., 0., 1., 0., 0., 0.],\n",
    "            [1., -1., 0., 0., 0., 0., 1., -1., 0., 1., 0., 0.],\n",
    "            [0., 0., 1., -1., 1., -1., 0., 0., 0., 0., 1., 0.],\n",
    "            [0., 0., 1., -1., 0., 0., 1., -1., 0., 0., 0., 1.]])\n",
    "b=np.array([30., 20., 40., 25.])\n",
    "c=np.array([-10., 10., -20., 20., -15., 15., -15., 15., 0., 0., 0., 0.])\n",
    "zf_wert=0.\n",
    "simplex(a,b,c,zf_wert)"
   ]
  },
  {
   "cell_type": "markdown",
   "metadata": {},
   "source": [
    "Antwort: Der minimale Zielfunktionswert für das primale Problem ist 875. Der optimale Punkt ist (15,0,25,0,15,0,0,0,0,5,0,0)."
   ]
  },
  {
   "cell_type": "markdown",
   "metadata": {
    "tags": []
   },
   "source": [
    "### Aufgabe 4\n",
    "Lösen Sie das LP-Problem\n",
    "\n",
    "\n",
    "\\begin{array}{rcl}\n",
    "5 x_5 + 2x_4   &\\to& \\max\\\\\n",
    "2x_1 - 4x_2 + 2 x_3 + x_4 - 7x_5  &  = & 18\\\\\n",
    "x_1   -  x_2  -2 x_3 - 5 x_4 + 6 x_5 & = & -19\\\\\n",
    "2x_2   - 4 x_3  -7 x_4 + 13 x_5 & = & -4\\\\\n",
    "x_1, x_2, x_3, x_4,x_5 &\\geq& 0\n",
    "\\end{array} \n",
    "\n",
    "   "
   ]
  },
  {
   "cell_type": "markdown",
   "metadata": {},
   "source": [
    "Lösung:\n",
    "\n",
    "$$\n",
    "    2x_4+5x_5-Ms_1-Ms_2-Ms_3 \\rightarrow \\text{max} \\\\\n",
    "    2x_1-4x_2+2x_3+x_4-7x_5+x_6 = 18 \\\\\n",
    "    2x_1-4x_2+2x_3+x_4-7x_5-x_7+s_1 = 18 \\\\\n",
    "    -x_1+x_2+2x_3+5x_4-6x_5-x_8+s_2 = 19 \\\\\n",
    "    -x_1+x_2+2x_3+5x_4-6x_5+x_9 = 19 \\\\\n",
    "    -2x_2+4x_3+7x_4-13x_5-x_{10}+s_3 = 4 \\\\\n",
    "    -2x_2+4x_3+7x_4-13x_5+x_{11} = 4 \\\\\n",
    "$$"
   ]
  },
  {
   "cell_type": "code",
   "execution_count": 143,
   "metadata": {},
   "outputs": [
    {
     "name": "stdout",
     "output_type": "stream",
     "text": [
      "zielfunktion fertig\n",
      "Zielfunktionswert:  500.0\n",
      "c: \n",
      "0.0\n",
      "10.0\n",
      "0.0\n",
      "3.0\n",
      "0.0\n",
      "10010.0\n",
      "10000.0\n",
      "0.0\n",
      "20.0\n",
      "15.0\n",
      "0.0\n",
      "0.0\n",
      "10000.0\n",
      "9985.0\n",
      "A:  [[ 1.  -1.   0.  -1.   0.   1.   0.   0.   1.   1.   0.   0.   0.  -1. ]\n",
      " [ 0.   0.   0.   0.   0.  -1.  -1.   0.   0.   0.   0.   1.   0.   0. ]\n",
      " [ 0.   2.   0.   1.   1.   2.   0.   0.   4.   3.   0.   0.   0.  -3. ]\n",
      " [ 0.   0.   0.   0.   0.   0.   0.   1.   1.   0.   0.   0.  -1.   0. ]\n",
      " [ 0.   6.   1.   5.   0.   6.5  0.   0.  13.   9.5  0.   0.   0.  -9.5]\n",
      " [ 0.   0.   0.   0.   0.   0.   0.   0.   0.   1.   1.   0.   0.  -1. ]]\n",
      "b: \n",
      "33.0\n",
      "0.0\n",
      "100.0\n",
      "0.0\n",
      "326.0\n",
      "0.0\n"
     ]
    }
   ],
   "source": [
    "#M = 10000\n",
    "a=np.array([[2., -4., 2., 1., -7., 1., 0., 0., 0., 0., 0., 0., 0., 0.],\n",
    "            [2., -4., 2., 1., -7., 0., -1., 0., 0., 0., 0., 1., 0., 0.],\n",
    "            [-1., 1., 2., 5., -6., 0., 0., -1., 0., 0., 0., 0., 1., 0.],\n",
    "            [-1., 1., 2., 5., -6., 0., 0., 0., 1., 0., 0., 0., 0., 0.],\n",
    "            [0., -2., 4., 7., -13., 0., 0., 0., 0., -1., 0., 0., 0., 1.],\n",
    "            [0., -2., 4., 7., -13., 0., 0., 0., 0., 0., 1., 0., 0., 0.]])\n",
    "b=np.array([18., 18., 19., 19., 4., 4.])\n",
    "c=np.array([-10000., 50000., -80000., -130002., 259995., 0., 10000., 10000., 0., 10000., 0., 0., 0., 0.])\n",
    "zf_wert=-410000.\n",
    "simplex(a,b,c,zf_wert)"
   ]
  },
  {
   "cell_type": "markdown",
   "metadata": {},
   "source": [
    "Antwort: Der maximale Zielfunktionswert ist 500. Der optimale Punkt ist (33, 0, 326, 0, 100, 0, 0, 0, 0, 0, 0)."
   ]
  },
  {
   "cell_type": "markdown",
   "metadata": {},
   "source": [
    "### Aufgabe 5\n",
    "\n",
    "Lösen Sie das LP-Problem\n",
    "\n",
    "\\begin{array}{rcl}\n",
    "-2 x_1 - x_2 - 7 x_3   &\\to& \\min\\\\\n",
    "x_1  + 2x_2 + 3 x_3   &  \\leq & 4\\\\\n",
    "- x_1   - 4 x_2 + 10 x_3   &  \\leq & 7\\\\\n",
    "x_1, x_2, x_3 &\\geq& 0\n",
    "\\end{array} "
   ]
  },
  {
   "cell_type": "markdown",
   "metadata": {},
   "source": [
    "Lösung:\n",
    "\n",
    "$$\n",
    "    2x_1+x_2+7x_3 \\rightarrow \\text{max} \\\\\n",
    "    x_1+2x_2+3x_3+x_4 = 4 \\\\\n",
    "    -x_1-4x_2+10x_3+x_5 = 7\n",
    "$$"
   ]
  },
  {
   "cell_type": "code",
   "execution_count": 144,
   "metadata": {},
   "outputs": [
    {
     "name": "stdout",
     "output_type": "stream",
     "text": [
      "zielfunktion fertig\n",
      "Zielfunktionswert:  8.85\n",
      "c: \n",
      "0.0\n",
      "2.85\n",
      "0.0\n",
      "2.08\n",
      "0.08\n",
      "A:  [[ 1.          2.46153846  0.          0.76923077 -0.23076923]\n",
      " [ 0.         -0.15384615  1.          0.07692308  0.07692308]]\n",
      "b: \n",
      "1.46\n",
      "0.85\n"
     ]
    }
   ],
   "source": [
    "a=np.array([[1., 2., 3., 1., 0.],\n",
    "            [-1., -4., 10., 0., 1.]])\n",
    "b=np.array([4., 7.])\n",
    "c=np.array([-2., -1., -7., 0., 0.])\n",
    "zf_wert=0.\n",
    "simplex(a,b,c,zf_wert)"
   ]
  },
  {
   "cell_type": "markdown",
   "metadata": {},
   "source": [
    "Antwort: der minimale Zielfunktionswert ist -8.85. Der optimale Punkt ist (1.46, 0, 0.85, 0, 0)."
   ]
  }
 ],
 "metadata": {
  "kernelspec": {
   "display_name": "Python 3",
   "language": "python",
   "name": "python3"
  },
  "language_info": {
   "codemirror_mode": {
    "name": "ipython",
    "version": 3
   },
   "file_extension": ".py",
   "mimetype": "text/x-python",
   "name": "python",
   "nbconvert_exporter": "python",
   "pygments_lexer": "ipython3",
   "version": "3.8.5"
  }
 },
 "nbformat": 4,
 "nbformat_minor": 4
}
